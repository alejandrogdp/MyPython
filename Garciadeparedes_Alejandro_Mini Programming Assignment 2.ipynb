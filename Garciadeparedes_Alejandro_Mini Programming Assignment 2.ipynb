{
 "cells": [
  {
   "cell_type": "markdown",
   "metadata": {},
   "source": [
    "## Sorting Algorithms Tests\n",
    "\n",
    "The purpose of this analysis is the runtime and amount of resources needed by the selection sort algorithm for five data arrays (5,000 numbers, 10,000 numbers, 15,000 numbers, 20,000 numbers, and 25,000 numbers) using a uniform random number generator."
   ]
  },
  {
   "cell_type": "markdown",
   "metadata": {},
   "source": [
    "#### Import necessary modules"
   ]
  },
  {
   "cell_type": "code",
   "execution_count": 1,
   "metadata": {},
   "outputs": [],
   "source": [
    "import numpy as np\n",
    "import pandas as pd\n",
    "pd.options.display.float_format = '{:,.3f}'.format # specify pandas float print format\n",
    "\n",
    "import matplotlib.pyplot as plt\n",
    "plt.rcParams.update({'font.size': 14}) # set font size for plt graphs"
   ]
  },
  {
   "cell_type": "markdown",
   "metadata": {},
   "source": [
    "#### Class that holds sorting methods"
   ]
  },
  {
   "cell_type": "code",
   "execution_count": 2,
   "metadata": {},
   "outputs": [],
   "source": [
    "# Define class to sort arrays using selection, bubble, and insertion sort.\n",
    "# The class includes a method to include run time for the sorting methods.\n",
    "class Sort():\n",
    "    \n",
    "    # Method to initaite class\n",
    "    def __init__(self, arr_size = 1, seed = 123):\n",
    "        self.arr_size = arr_size\n",
    "        self.seed = seed\n",
    "        self.arr = list(np.random.randint(low = 0,dtype=int, high=1000, size=self.arr_size))\n",
    "    \n",
    "    \n",
    "    \n",
    "    # Method to find and store the index of the smalles value in the array\n",
    "    # This method is necessary for the selection sort algorithm\n",
    "    def findSmallest(self):\n",
    "        smallest = self.arr[0]\n",
    "        smallest_index = 0\n",
    "        \n",
    "        for i in range(1, len(self.arr)):\n",
    "            if self.arr[i] < smallest:\n",
    "                smallest = self.arr[i]\n",
    "                smallest_index = i\n",
    "        \n",
    "        return smallest_index\n",
    "    \n",
    "    \n",
    "    \n",
    "    # Selection sort algorithm from Grokking Algorithms textbook\n",
    "    def selectionSort(self):\n",
    "        \n",
    "        # Empty list to hold sorted output\n",
    "        newArr = []\n",
    "        \n",
    "        # Loop over array, find the smallest value, delete it from array\n",
    "        # and append to the empty list defined above\n",
    "        for i in range(len(self.arr)):\n",
    "            smallest = self.findSmallest()\n",
    "            newArr.append(self.arr.pop(smallest)) #The pop() method removes the element at the specified position.\n",
    "        \n",
    "        # replace the class array with the sorted array\n",
    "        self.arr = newArr\n",
    "    \n",
    "    \n",
    "    \n",
    "    # Bubble sort algorithm\n",
    "    def bubbleSort(self): \n",
    "\n",
    "    # This algorithm compares each pair of adjacent elements in a loop and swap them if\n",
    "    # the first elment in the pair is larger than the second element\n",
    "    \n",
    "        # Define i as the element to compare and swap\n",
    "        for i in range(self.arr_size): \n",
    "\n",
    "            # Compare i with the jth element\n",
    "            for j in range(0, self.arr_size-i-1): \n",
    "                \n",
    "                # Swap it arr[i] > arr[j]\n",
    "                if self.arr[j] > self.arr[j+1] : \n",
    "                    self.arr[j], self.arr[j+1] = self.arr[j+1], self.arr[j]\n",
    "\n",
    "    # Insertion sort algorithm\n",
    "    def insertionSort(self): \n",
    "    \n",
    "    # This algorithm builds a sorted list by removing one element at a time\n",
    "    # and finding the right position in the sorted list\n",
    "    \n",
    "        # Loop through 1 to len(arr) \n",
    "        for i in range(1, len(self.arr)): \n",
    "            \n",
    "            # Store element to compare in a variable\n",
    "            key = self.arr[i] \n",
    "\n",
    "            # Move elements of the arr one position ahead if element > key\n",
    "            \n",
    "            j = i-1 # Length of the array without key value\n",
    "            while j >=0 and key < self.arr[j] : \n",
    "                    self.arr[j+1] = self.arr[j] \n",
    "                    j -= 1\n",
    "            self.arr[j+1] = key\n",
    "            \n",
    "    # Method to record run times for the sort methods defined above\n",
    "    def sort_record_times(self, func = \"selectionSort\"):\n",
    "\n",
    "        # Sort array and get sort time\n",
    "        import datetime\n",
    "        \n",
    "        # Record start time\n",
    "        start = datetime.datetime.now()\n",
    "        \n",
    "        # Evaluate search method\n",
    "        eval(\"self.\" + func + \"()\")\n",
    "        \n",
    "        # Record end time \n",
    "        end = datetime.datetime.now()\n",
    "        \n",
    "        # Return miliseconds ellapsed between start and end time\n",
    "        return (end - start).microseconds/1000"
   ]
  },
  {
   "cell_type": "markdown",
   "metadata": {},
   "source": [
    "#### Create random arrays and store Sort class results in a data frame\n",
    "We created a list of array sizes and a list of sorting algorithm names to create and record runtime of random arrays in a loop for each array size and algorithm. We generate the random arrays, sort them, and record runtime using the Sort class. The results are stored in a Pandas dataframe object where the colum names correspond to each sorting algorithm and the row index to the array size"
   ]
  },
  {
   "cell_type": "code",
   "execution_count": 3,
   "metadata": {},
   "outputs": [
    {
     "name": "stdout",
     "output_type": "stream",
     "text": [
      "Array Size: 5000 Sorting Algorithm: selectionSort\n",
      "Array Size: 5000 Sorting Algorithm: bubbleSort\n",
      "Array Size: 5000 Sorting Algorithm: insertionSort\n",
      "Array Size: 10000 Sorting Algorithm: selectionSort\n",
      "Array Size: 10000 Sorting Algorithm: bubbleSort\n",
      "Array Size: 10000 Sorting Algorithm: insertionSort\n",
      "Array Size: 15000 Sorting Algorithm: selectionSort\n",
      "Array Size: 15000 Sorting Algorithm: bubbleSort\n",
      "Array Size: 15000 Sorting Algorithm: insertionSort\n",
      "Array Size: 20000 Sorting Algorithm: selectionSort\n",
      "Array Size: 20000 Sorting Algorithm: bubbleSort\n",
      "Array Size: 20000 Sorting Algorithm: insertionSort\n",
      "Array Size: 25000 Sorting Algorithm: selectionSort\n",
      "Array Size: 25000 Sorting Algorithm: bubbleSort\n",
      "Array Size: 25000 Sorting Algorithm: insertionSort\n"
     ]
    }
   ],
   "source": [
    "# Create a list with random array size\n",
    "arr_size = [5000, 10000, 15000, 20000, 25000]\n",
    "func_list = [\"selectionSort\", \"bubbleSort\", \"insertionSort\"]\n",
    "\n",
    "# Create an empty dataframe to store runtime for each algorithm\n",
    "runtime_df = pd.DataFrame(index= arr_size, columns= func_list)\n",
    "\n",
    "# Define random arrays in a loop and record sort runtimes\n",
    "# By looping first over array_size list and then over func_list list\n",
    "for k in range(len(arr_size)):\n",
    " \n",
    "    for i in range(len(func_list)):\n",
    "        \n",
    "        # Print current array size and algorithm being evaluated\n",
    "        print(\"Array Size:\",arr_size[k],\"Sorting Algorithm:\", func_list[i])\n",
    "    \n",
    "        # Call Sort class and record runtime\n",
    "        exec(f'runtime_df.loc[arr_size[{k}],func_list[{i}]] = Sort(arr_size = arr_size[{k}]).sort_record_times(func = func_list[{i}])')\n"
   ]
  },
  {
   "cell_type": "code",
   "execution_count": 4,
   "metadata": {},
   "outputs": [
    {
     "data": {
      "text/html": [
       "<div>\n",
       "<style scoped>\n",
       "    .dataframe tbody tr th:only-of-type {\n",
       "        vertical-align: middle;\n",
       "    }\n",
       "\n",
       "    .dataframe tbody tr th {\n",
       "        vertical-align: top;\n",
       "    }\n",
       "\n",
       "    .dataframe thead th {\n",
       "        text-align: right;\n",
       "    }\n",
       "</style>\n",
       "<table border=\"1\" class=\"dataframe\">\n",
       "  <thead>\n",
       "    <tr style=\"text-align: right;\">\n",
       "      <th></th>\n",
       "      <th>selectionSort</th>\n",
       "      <th>bubbleSort</th>\n",
       "      <th>insertionSort</th>\n",
       "    </tr>\n",
       "  </thead>\n",
       "  <tbody>\n",
       "    <tr>\n",
       "      <th>5000</th>\n",
       "      <td>818.035</td>\n",
       "      <td>888.963</td>\n",
       "      <td>226.035</td>\n",
       "    </tr>\n",
       "    <tr>\n",
       "      <th>10000</th>\n",
       "      <td>283.999</td>\n",
       "      <td>774.992</td>\n",
       "      <td>983.965</td>\n",
       "    </tr>\n",
       "    <tr>\n",
       "      <th>15000</th>\n",
       "      <td>371.997</td>\n",
       "      <td>482.003</td>\n",
       "      <td>714.999</td>\n",
       "    </tr>\n",
       "    <tr>\n",
       "      <th>20000</th>\n",
       "      <td>708.033</td>\n",
       "      <td>523.973</td>\n",
       "      <td>163.032</td>\n",
       "    </tr>\n",
       "    <tr>\n",
       "      <th>25000</th>\n",
       "      <td>722.999</td>\n",
       "      <td>552.980</td>\n",
       "      <td>285.037</td>\n",
       "    </tr>\n",
       "  </tbody>\n",
       "</table>\n",
       "</div>"
      ],
      "text/plain": [
       "      selectionSort bubbleSort insertionSort\n",
       "5000        818.035    888.963       226.035\n",
       "10000       283.999    774.992       983.965\n",
       "15000       371.997    482.003       714.999\n",
       "20000       708.033    523.973       163.032\n",
       "25000       722.999    552.980       285.037"
      ]
     },
     "execution_count": 4,
     "metadata": {},
     "output_type": "execute_result"
    }
   ],
   "source": [
    "runtime_df"
   ]
  },
  {
   "cell_type": "code",
   "execution_count": 5,
   "metadata": {},
   "outputs": [
    {
     "data": {
      "text/plain": [
       "selectionSort   581.013\n",
       "bubbleSort      644.582\n",
       "insertionSort   474.614\n",
       "dtype: float64"
      ]
     },
     "execution_count": 5,
     "metadata": {},
     "output_type": "execute_result"
    }
   ],
   "source": [
    "runtime_df.mean()"
   ]
  },
  {
   "cell_type": "markdown",
   "metadata": {},
   "source": [
    "The table above show that there is no universal wort sorting algorithm. Selection sort performed worst on smaller arrays, but it's performance improved as the array size increases. The opposite was the cases for Insertion and Bubble sort. \n",
    "\n",
    "Note that this example shows only the result of one sorting operation per algorithm per array size. More trials are needed to determine if these findings are consistent.\n",
    "\n",
    "In theory, computational performance for each algoritm is as follows:"
   ]
  },
  {
   "cell_type": "code",
   "execution_count": 6,
   "metadata": {},
   "outputs": [],
   "source": [
    "#(comparisons, swaps)\n",
    "#                Selection Sort    Bubble Sort    Insertion Sort\n",
    "# Worst case     (О(n^2),О(n))    (О(n^2),О(n^2))  (О(n^2),О(n^2))\n",
    "# Average case   (О(n^2),О(n))    (О(n^2),О(n^2))  (О(n^2),О(n^2))\n",
    "# Best Case      (О(n^2),О(n))    (О(n^2),О(1))    (О(n^2),О(1))"
   ]
  },
  {
   "cell_type": "markdown",
   "metadata": {},
   "source": [
    "### Figure 1\n",
    "#### Plot of execution time against problem size for each form of the algorithm being tested\n",
    "\n",
    "Figure 1 illustrates what we described above after building a runtime_df table. The is no universal best/worst algoritm, it depends on other factors such as sample size."
   ]
  },
  {
   "cell_type": "code",
   "execution_count": 7,
   "metadata": {
    "scrolled": false
   },
   "outputs": [
    {
     "data": {
      "image/png": "[encoded data removed]",
      "text/plain": [
       "<Figure size 1080x720 with 1 Axes>"
      ]
     },
     "metadata": {},
     "output_type": "display_data"
    }
   ],
   "source": [
    "x_loc = np.arange(runtime_df.shape[0]) # the x locations for the groups\n",
    "width = 0.15 # the width of the bars\n",
    "\n",
    "# set height of bar\n",
    "bars1 = runtime_df.selectionSort\n",
    "bars2 = runtime_df.bubbleSort\n",
    "bars3 = runtime_df.insertionSort\n",
    "\n",
    "\n",
    "# Set position of bar on X axis\n",
    "r1 = np.arange(len(bars1))\n",
    "r2 = [x + width for x in r1]\n",
    "r3 = [x + width for x in r2]\n",
    "\n",
    "fig, ax = plt.subplots(figsize=(15, 10))\n",
    "res1 = ax.bar(r1, bars1, width, color='green')\n",
    "res2 = ax.bar(r2, bars2, width, color='blue')\n",
    "res3 = ax.bar(r3, bars3, width, color='red')\n",
    "\n",
    "# add labels, title and axes ticks\n",
    "ax.set_ylabel('Time in Milliseconds')\n",
    "ax.set_xlabel('Array size')\n",
    "ax.set_title('Runtime by algorithm and array size')\n",
    "ax.set_xticks(x_loc + width / 2)\n",
    "ax.set_xticklabels(arr_size)\n",
    "\n",
    "\n",
    "ax.legend((res1[0], res2[0], res3[0]), \n",
    "          ('Selection Sort', 'Bubble Sort','Insertion Sort'))\n",
    "plt.show()"
   ]
  }
 ],
 "metadata": {
  "kernelspec": {
   "display_name": "Python 3",
   "language": "python",
   "name": "python3"
  },
  "language_info": {
   "codemirror_mode": {
    "name": "ipython",
    "version": 3
   },
   "file_extension": ".py",
   "mimetype": "text/x-python",
   "name": "python",
   "nbconvert_exporter": "python",
   "pygments_lexer": "ipython3",
   "version": "3.6.6"
  }
 },
 "nbformat": 4,
 "nbformat_minor": 2
}
